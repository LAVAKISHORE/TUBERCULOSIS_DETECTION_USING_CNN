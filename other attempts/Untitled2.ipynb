{
 "cells": [
  {
   "cell_type": "code",
   "execution_count": 80,
   "id": "87a357cd-db73-4acd-a48c-6dc67695a969",
   "metadata": {},
   "outputs": [
    {
     "data": {
      "image/png": "[encoded data removed]",
      "text/plain": [
       "<Figure size 640x480 with 1 Axes>"
      ]
     },
     "metadata": {},
     "output_type": "display_data"
    }
   ],
   "source": [
    "import matplotlib.pyplot as sm\n",
    "x=[2,4,6,10,10,12,14,16]\n",
    "y=[1,3,5,7,9,11,13,15]\n",
    "sm.scatter(x,y,marker='^',edgecolor='red',s=400)\n",
    "sm.show()"
   ]
  },
  {
   "cell_type": "code",
   "execution_count": 75,
   "id": "af1dbbd9-61f2-4635-b8f3-1022e33b333f",
   "metadata": {},
   "outputs": [
    {
     "ename": "IndentationError",
     "evalue": "expected an indented block (693118147.py, line 11)",
     "output_type": "error",
     "traceback": [
      "\u001b[1;36m  Cell \u001b[1;32mIn[75], line 11\u001b[1;36m\u001b[0m\n\u001b[1;33m    for key, value in row.items():\u001b[0m\n\u001b[1;37m    ^\u001b[0m\n\u001b[1;31mIndentationError\u001b[0m\u001b[1;31m:\u001b[0m expected an indented block\n"
     ]
    }
   ],
   "source": [
    "df = pd.DataFrame([[np.nan, 2, np.nan, 0],\n",
    "[3, 4, np.nan, 1], [np.nan, np.nan, np.nan, np.nan],\n",
    "[np.nan, 3, np.nan, 4]],\n",
    "columns=list(\"ABCD\"))\n",
    "\n",
    "import csv\n",
    "def handle_missing_data(data):\n",
    " # Iterate over each row\n",
    " for row in data:\n",
    " # Iterate over each value in the row\n",
    " for key, value in row.items():\n",
    " if value == '':\n",
    " # Handle missing data (you can customize this part)\n",
    " row[key] = None\n",
    "# Function to read data from CSV file\n",
    "def read_csv_file(file_path):\n",
    " data = []\n",
    " with open(file_path, 'r') as file:\n",
    " reader = csv.DictReader(file)\n",
    " for row in reader:\n",
    "data.append(row)\n",
    " return data\n",
    "# Example usage\n",
    "file_path = 'data.csv'\n",
    "data = read_csv_file(file_path)\n",
    "handle_missing_data(data)\n",
    "# Print the processed data\n",
    "for row in data:\n",
    " print(row)\n"
   ]
  },
  {
   "cell_type": "code",
   "execution_count": 88,
   "id": "f0fd3e02-6b4f-4076-93c3-7f9901f4ba39",
   "metadata": {},
   "outputs": [
    {
     "name": "stdout",
     "output_type": "stream",
     "text": [
      "   ID     Name    City\n",
      "0   2      Bob  London\n",
      "1   3  Charlie   Paris\n",
      "  Product  Amount\n",
      "0       A     100\n",
      "1       B     150\n",
      "2       A     200\n",
      "3       B     120\n",
      "4       A     180\n",
      "5       B      90\n",
      "Product\n",
      "A    480\n",
      "B    360\n",
      "Name: Amount, dtype: int64\n"
     ]
    }
   ],
   "source": [
    "import pandas as pd\n",
    "# Sample data for two datasets\n",
    "data1 = {\n",
    " 'ID': [1, 2, 3],\n",
    " 'Name': ['Alice', 'Bob', 'Charlie']\n",
    "}\n",
    "data2 = {\n",
    " 'ID': [2, 3, 4],\n",
    " 'City': ['London', 'Paris', 'Berlin']\n",
    "}\n",
    "df1 = pd.DataFrame(data1)\n",
    "df2 = pd.DataFrame(data2)\n",
    "# Merging the two DataFrames based on 'ID'\n",
    "merged_df = pd.merge(df1, df2, on='ID', how='inner')\n",
    "print(merged_df)\n",
    "import pandas as pd\n",
    "# Sample data for sales transactions\n",
    "data = {\n",
    " 'Product': ['A', 'B', 'A', 'B', 'A', 'B'],\n",
    " 'Amount': [100, 150, 200, 120, 180, 90]\n",
    "}\n",
    "df = pd.DataFrame(data)\n",
    "print(df)\n",
    "# Grouping by 'Product' and calculating total sales\n",
    "grouped_df = df.groupby('Product')['Amount'].sum()\n",
    "print(grouped_df)"
   ]
  },
  {
   "cell_type": "code",
   "execution_count": 90,
   "id": "c9bb3a28-d509-4004-85eb-c9d79839d51d",
   "metadata": {},
   "outputs": [
    {
     "data": {
      "image/png": "[encoded data removed]",
      "text/plain": [
       "<Figure size 200x200 with 1 Axes>"
      ]
     },
     "metadata": {},
     "output_type": "display_data"
    },
    {
     "data": {
      "image/png": "[encoded data removed]",
      "text/plain": [
       "<Figure size 200x200 with 1 Axes>"
      ]
     },
     "metadata": {},
     "output_type": "display_data"
    }
   ],
   "source": [
    "import matplotlib.pyplot as plt\n",
    "import numpy as np\n",
    "plt.style.use('_mpl-gallery-nogrid')\n",
    "# make data\n",
    "x = [1, 2, 3, 4]\n",
    "colors = plt.get_cmap('Blues')(np.linspace(0.2, 0.7, len(x)))\n",
    "# plot\n",
    "fig, ax = plt.subplots()\n",
    "ax.pie(x, colors=colors, radius=3, center=(4, 4),\n",
    " wedgeprops={\"linewidth\": 1, \"edgecolor\": \"white\"}, frame=True)\n",
    "ax.set(xlim=(0, 8), xticks=np.arange(1, 8),\n",
    " ylim=(0, 8), yticks=np.arange(1, 8))\n",
    "plt.show()\n",
    "import matplotlib.pyplot as plt\n",
    "import numpy as np\n",
    "plt.style.use('_mpl-gallery')\n",
    "# make data:\n",
    "x = 0.5 + np.arange(8)\n",
    "y = [4.8, 5.5, 3.5, 4.6, 6.5, 6.6, 2.6, 3.0]\n",
    "# plot\n",
    "fig, ax = plt.subplots()\n",
    "ax.bar(x, y, width=1, edgecolor=\"white\", linewidth=0.7)\n",
    "ax.set(xlim=(0, 8), xticks=np.arange(1, 8),\n",
    " ylim=(0, 8), yticks=np.arange(1, 8))\n",
    "plt.show()"
   ]
  },
  {
   "cell_type": "code",
   "execution_count": 98,
   "id": "b5d719b8-16d8-4a58-8cd2-4cb9709a6582",
   "metadata": {},
   "outputs": [
    {
     "name": "stdout",
     "output_type": "stream",
     "text": [
      "        Age      City\n",
      "Name                 \n",
      "Emily    30    London\n",
      "John     25  New York\n",
      "Sam      18     Paris\n",
      "Sophia   21     Tokyo\n"
     ]
    },
    {
     "data": {
      "text/html": [
       "<div>\n",
       "<style scoped>\n",
       "    .dataframe tbody tr th:only-of-type {\n",
       "        vertical-align: middle;\n",
       "    }\n",
       "\n",
       "    .dataframe tbody tr th {\n",
       "        vertical-align: top;\n",
       "    }\n",
       "\n",
       "    .dataframe thead th {\n",
       "        text-align: right;\n",
       "    }\n",
       "</style>\n",
       "<table border=\"1\" class=\"dataframe\">\n",
       "  <thead>\n",
       "    <tr style=\"text-align: right;\">\n",
       "      <th></th>\n",
       "      <th>Name</th>\n",
       "      <th>Age</th>\n",
       "      <th>City</th>\n",
       "    </tr>\n",
       "  </thead>\n",
       "  <tbody>\n",
       "    <tr>\n",
       "      <th>1</th>\n",
       "      <td>Emily</td>\n",
       "      <td>30</td>\n",
       "      <td>London</td>\n",
       "    </tr>\n",
       "    <tr>\n",
       "      <th>0</th>\n",
       "      <td>John</td>\n",
       "      <td>25</td>\n",
       "      <td>New York</td>\n",
       "    </tr>\n",
       "    <tr>\n",
       "      <th>2</th>\n",
       "      <td>Sam</td>\n",
       "      <td>18</td>\n",
       "      <td>Paris</td>\n",
       "    </tr>\n",
       "    <tr>\n",
       "      <th>3</th>\n",
       "      <td>Sophia</td>\n",
       "      <td>21</td>\n",
       "      <td>Tokyo</td>\n",
       "    </tr>\n",
       "  </tbody>\n",
       "</table>\n",
       "</div>"
      ],
      "text/plain": [
       "     Name  Age      City\n",
       "1   Emily   30    London\n",
       "0    John   25  New York\n",
       "2     Sam   18     Paris\n",
       "3  Sophia   21     Tokyo"
      ]
     },
     "execution_count": 98,
     "metadata": {},
     "output_type": "execute_result"
    }
   ],
   "source": [
    "import pandas as pd\n",
    "# Create a data frame from a dictionary\n",
    "data = {'Name': ['John', 'Emily', 'Sam', 'Sophia'],\n",
    " 'Age': [25, 30, 18, 21],\n",
    " 'City': ['New York', 'London', 'Paris', 'Tokyo']}\n",
    "df1 = pd.DataFrame(data)\n",
    "# Create a data frame from a list of lists\n",
    "data = [['Apple', 1.2, 100],\n",
    " ['Banana', 0.5, 150],\n",
    " ['Orange', 0.8, 75],\n",
    " ['Mango', 1.5, 50]]\n",
    "columns = ['Fruit', 'Weight', 'Price']\n",
    "df2 = pd.DataFrame(data, columns=columns)\n",
    "# Group data by a column and perform aggregate functions\n",
    "grouped_df = df1.groupby('Name').sum() # Group df1 by column_name and sum the \n",
    "print(grouped_df)\n",
    "# Perform other operations on dataframes such as sorting, filtering, etc.\n",
    "sorted_df = df1.sort_values('City') # Sort df1 based on column_name\n",
    "filtered_df = df1[df1['Age'] > 10] # Filter df1 based on a condition\n",
    "sorted_df"
   ]
  },
  {
   "cell_type": "code",
   "execution_count": null,
   "id": "8fd45dba-a78c-4a0a-b0f1-92d26bbee1b8",
   "metadata": {},
   "outputs": [],
   "source": []
  }
 ],
 "metadata": {
  "kernelspec": {
   "display_name": "Python 3 (ipykernel)",
   "language": "python",
   "name": "python3"
  },
  "language_info": {
   "codemirror_mode": {
    "name": "ipython",
    "version": 3
   },
   "file_extension": ".py",
   "mimetype": "text/x-python",
   "name": "python",
   "nbconvert_exporter": "python",
   "pygments_lexer": "ipython3",
   "version": "3.9.0"
  }
 },
 "nbformat": 4,
 "nbformat_minor": 5
}

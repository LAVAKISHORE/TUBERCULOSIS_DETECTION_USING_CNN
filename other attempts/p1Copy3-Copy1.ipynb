{
 "cells": [
  {
   "cell_type": "code",
   "execution_count": 13,
   "id": "d70e7ac4-2855-4a83-a48d-7f09abd9710e",
   "metadata": {},
   "outputs": [],
   "source": [
    "import os\n",
    "import pandas as pd\n",
    "import cv2\n",
    "import numpy as np\n",
    "import tensorflow as tf\n",
    "from tensorflow import keras\n",
    "from tensorflow.keras.preprocessing.image import ImageDataGenerator\n",
    "from sklearn.model_selection import train_test_split\n",
    "from sklearn.metrics import precision_score, f1_score\n",
    "from sklearn.metrics import confusion_matrix, classification_report\n",
    "import matplotlib.pyplot as plt\n",
    "import seaborn as sns"
   ]
  },
  {
   "cell_type": "code",
   "execution_count": 3,
   "id": "ff539182-3307-4baf-946b-97d840f34d5b",
   "metadata": {},
   "outputs": [],
   "source": [
    "#defining paths to your data\n",
    "DATA2_PATH = r\"C:\\Users\\B.BASI REDDY\\Documents\\TB_Chest_Radiography_Database\"\n",
    "DATA2_TRAIN_NORMAL = os.path.join(DATA2_PATH, \"Normal\")\n",
    "DATA2_TRAIN_TUBERCULOSIS = os.path.join(DATA2_PATH, \"Tuberculosis\")"
   ]
  },
  {
   "cell_type": "code",
   "execution_count": 4,
   "id": "7724e995-ef33-4a79-be4e-e1b2ba1a9841",
   "metadata": {},
   "outputs": [],
   "source": [
    "# Load image file lists\n",
    "normal_img = os.listdir(DATA2_TRAIN_NORMAL)\n",
    "tuberculosis_img = os.listdir(DATA2_TRAIN_TUBERCULOSIS)\n"
   ]
  },
  {
   "cell_type": "code",
   "execution_count": 5,
   "id": "298c5e3d-3c5d-4bb5-afcc-f4a7b251a1ea",
   "metadata": {},
   "outputs": [],
   "source": [
    "# Create dataframes with labels\n",
    "df_normal = pd.DataFrame(normal_img, columns=[\"images\"])\n",
    "df_normal[\"labels\"] = 0  # Label for normal\n",
    "df_normal[\"images\"] = DATA2_TRAIN_NORMAL + \"/\" + df_normal[\"images\"]\n",
    "df_tuberculosis = pd.DataFrame(tuberculosis_img, columns=[\"images\"])\n",
    "df_tuberculosis[\"labels\"] = 1  # Label for tuberculosis\n",
    "df_tuberculosis[\"images\"] = DATA2_TRAIN_TUBERCULOSIS + \"/\" + df_tuberculosis[\"images\"]"
   ]
  },
  {
   "cell_type": "code",
   "execution_count": 6,
   "id": "46f3997c-3020-464f-8af8-17931d6beff1",
   "metadata": {},
   "outputs": [],
   "source": [
    "# Concatenate dataframes\n",
    "data_df = pd.concat([df_normal, df_tuberculosis], ignore_index=True)\n",
    "data_df = data_df.sample(frac=1, random_state=42).reset_index(drop=True)"
   ]
  },
  {
   "cell_type": "code",
   "execution_count": 7,
   "id": "4f924bc3-a531-4911-9fd1-8b7d9a678872",
   "metadata": {},
   "outputs": [],
   "source": [
    "image_size = (224, 224)\n",
    "X = []\n",
    "for img_path in data_df[\"images\"]:\n",
    "    img = cv2.imread(img_path, cv2.IMREAD_GRAYSCALE)\n",
    "    if img is not None:  # Check if the image was loaded successfully\n",
    "        img = cv2.resize(img, image_size)\n",
    "        X.append(img)\n",
    "\n",
    "X = np.array(X)\n",
    "X = X / 255.0  # Normalize images\n",
    "X = X.reshape(X.shape[0], 224, 224, 1)\n",
    "Y = data_df[\"labels\"]"
   ]
  },
  {
   "cell_type": "code",
   "execution_count": 8,
   "id": "a9e5b96b-4e07-4b54-82ff-9c20c274076e",
   "metadata": {},
   "outputs": [
    {
     "name": "stdout",
     "output_type": "stream",
     "text": [
      "(64, 224, 224, 1)\n",
      "(64, 2)\n",
      "(16, 224, 224, 1)\n",
      "(16, 2)\n"
     ]
    }
   ],
   "source": [
    "min_length = min(len(X), len(Y))\n",
    "X = X[:min_length]\n",
    "Y = Y[:min_length]\n",
    "Y = keras.utils.to_categorical(Y, num_classes=2)\n",
    "X_train, X_test, Y_train, Y_test = train_test_split(X, Y, test_size=0.2, random_state=42)\n",
    "X_train = np.reshape(X_train, (X_train.shape[0], 224, 224, 1))\n",
    "X_test = np.reshape(X_test, (X_test.shape[0], 224, 224, 1))\n",
    "print(X_train.shape)\n",
    "print(Y_train.shape)\n",
    "print(X_test.shape)\n",
    "print(Y_test.shape)"
   ]
  },
  {
   "cell_type": "code",
   "execution_count": 9,
   "id": "341c3eea-a905-4478-bb38-cd52fe522f1c",
   "metadata": {},
   "outputs": [],
   "source": [
    "batch_size = 32\n",
    "train_datagen = ImageDataGenerator(\n",
    "    rescale=1.0 / 255,\n",
    "    rotation_range=20,\n",
    "    width_shift_range=0.1,\n",
    "    height_shift_range=0.1,\n",
    "    horizontal_flip=True,\n",
    "    shear_range=0.2,\n",
    "    zoom_range=0.2,\n",
    "    validation_split=0.2\n",
    ")\n",
    "\n",
    "train_generator = train_datagen.flow(X_train, Y_train, batch_size=batch_size, subset='training')\n",
    "validation_generator = train_datagen.flow(X_train, Y_train, batch_size=batch_size, subset='validation')"
   ]
  },
  {
   "cell_type": "code",
   "execution_count": 10,
   "id": "ae75dd3a-5061-47b4-bac6-89c8f0d533df",
   "metadata": {},
   "outputs": [
    {
     "name": "stdout",
     "output_type": "stream",
     "text": [
      "Model: \"sequential\"\n",
      "_________________________________________________________________\n",
      " Layer (type)                Output Shape              Param #   \n",
      "=================================================================\n",
      " conv2d (Conv2D)             (None, 222, 222, 32)      320       \n",
      "                                                                 \n",
      " max_pooling2d (MaxPooling2  (None, 111, 111, 32)      0         \n",
      " D)                                                              \n",
      "                                                                 \n",
      " conv2d_1 (Conv2D)           (None, 109, 109, 64)      18496     \n",
      "                                                                 \n",
      " max_pooling2d_1 (MaxPoolin  (None, 54, 54, 64)        0         \n",
      " g2D)                                                            \n",
      "                                                                 \n",
      " conv2d_2 (Conv2D)           (None, 52, 52, 128)       73856     \n",
      "                                                                 \n",
      " conv2d_3 (Conv2D)           (None, 50, 50, 128)       147584    \n",
      "                                                                 \n",
      " max_pooling2d_2 (MaxPoolin  (None, 25, 25, 128)       0         \n",
      " g2D)                                                            \n",
      "                                                                 \n",
      " flatten (Flatten)           (None, 80000)             0         \n",
      "                                                                 \n",
      " dense (Dense)               (None, 128)               10240128  \n",
      "                                                                 \n",
      " dense_1 (Dense)             (None, 2)                 258       \n",
      "                                                                 \n",
      "=================================================================\n",
      "Total params: 10480642 (39.98 MB)\n",
      "Trainable params: 10480642 (39.98 MB)\n",
      "Non-trainable params: 0 (0.00 Byte)\n",
      "_________________________________________________________________\n"
     ]
    }
   ],
   "source": [
    "model = keras.Sequential([\n",
    "    keras.layers.Conv2D(32, (3, 3), activation='relu', input_shape=(224, 224, 1)),\n",
    "    keras.layers.MaxPooling2D((2, 2)),\n",
    "    keras.layers.Conv2D(64, (3, 3), activation='relu'),\n",
    "    keras.layers.MaxPooling2D((2, 2)),\n",
    "    keras.layers.Conv2D(128, (3, 3), activation='relu'),\n",
    "    keras.layers.Conv2D(128, (3, 3), activation='relu'),\n",
    "    keras.layers.MaxPooling2D((2, 2)),\n",
    "    keras.layers.Flatten(),\n",
    "    keras.layers.Dense(128, activation='relu'),\n",
    "    keras.layers.Dense(2, activation='softmax')\n",
    "])\n",
    "\n",
    "model.compile(optimizer='adam', loss='categorical_crossentropy', metrics=['accuracy'] )\n",
    "model.summary()"
   ]
  },
  {
   "cell_type": "code",
   "execution_count": 11,
   "id": "5156b956-f493-4e67-8ac5-1bcad05315d2",
   "metadata": {},
   "outputs": [
    {
     "name": "stdout",
     "output_type": "stream",
     "text": [
      "Epoch 1/10\n",
      "1/1 [==============================] - 31s 31s/step - loss: 0.6968 - accuracy: 0.4219 - val_loss: 0.7781 - val_accuracy: 0.4375\n",
      "Epoch 2/10\n",
      "1/1 [==============================] - 5s 5s/step - loss: 0.6956 - accuracy: 0.5156 - val_loss: 1.1772 - val_accuracy: 0.5625\n",
      "Epoch 3/10\n",
      "1/1 [==============================] - 4s 4s/step - loss: 1.3186 - accuracy: 0.4844 - val_loss: 0.6714 - val_accuracy: 0.8125\n",
      "Epoch 4/10\n",
      "1/1 [==============================] - 5s 5s/step - loss: 0.6660 - accuracy: 0.8750 - val_loss: 0.9162 - val_accuracy: 0.4375\n",
      "Epoch 5/10\n",
      "1/1 [==============================] - 5s 5s/step - loss: 0.8134 - accuracy: 0.5156 - val_loss: 0.7428 - val_accuracy: 0.4375\n",
      "Epoch 6/10\n",
      "1/1 [==============================] - 6s 6s/step - loss: 0.6977 - accuracy: 0.5156 - val_loss: 0.6996 - val_accuracy: 0.4375\n",
      "Epoch 7/10\n",
      "1/1 [==============================] - 4s 4s/step - loss: 0.6711 - accuracy: 0.5156 - val_loss: 0.6811 - val_accuracy: 0.4375\n",
      "Epoch 8/10\n",
      "1/1 [==============================] - 5s 5s/step - loss: 0.6524 - accuracy: 0.5156 - val_loss: 0.6690 - val_accuracy: 0.4375\n",
      "Epoch 9/10\n",
      "1/1 [==============================] - 5s 5s/step - loss: 0.6254 - accuracy: 0.5469 - val_loss: 0.6261 - val_accuracy: 0.5625\n",
      "Epoch 10/10\n",
      "1/1 [==============================] - 5s 5s/step - loss: 0.5624 - accuracy: 0.7188 - val_loss: 0.7886 - val_accuracy: 0.4375\n"
     ]
    }
   ],
   "source": [
    "#training the model\n",
    "history=model.fit(X_train,Y_train,epochs=10,validation_data=(X_test,Y_test),batch_size=64) "
   ]
  },
  {
   "cell_type": "code",
   "execution_count": 12,
   "id": "d075658f-e49e-49e9-a6c6-0d1fbab3ac82",
   "metadata": {},
   "outputs": [
    {
     "data": {
      "image/png": "[encoded data removed]",
      "text/plain": [
       "<Figure size 640x480 with 1 Axes>"
      ]
     },
     "metadata": {},
     "output_type": "display_data"
    },
    {
     "ename": "NameError",
     "evalue": "name 'confusion' is not defined",
     "output_type": "error",
     "traceback": [
      "\u001b[1;31m---------------------------------------------------------------------------\u001b[0m",
      "\u001b[1;31mNameError\u001b[0m                                 Traceback (most recent call last)",
      "Cell \u001b[1;32mIn[12], line 8\u001b[0m\n\u001b[0;32m      6\u001b[0m plt\u001b[38;5;241m.\u001b[39mlegend(loc\u001b[38;5;241m=\u001b[39m\u001b[38;5;124m'\u001b[39m\u001b[38;5;124mlower right\u001b[39m\u001b[38;5;124m'\u001b[39m)\n\u001b[0;32m      7\u001b[0m plt\u001b[38;5;241m.\u001b[39mshow()\n\u001b[1;32m----> 8\u001b[0m accuracy \u001b[38;5;241m=\u001b[39m (\u001b[43mconfusion\u001b[49m[\u001b[38;5;241m0\u001b[39m, \u001b[38;5;241m0\u001b[39m] \u001b[38;5;241m+\u001b[39m confusion[\u001b[38;5;241m1\u001b[39m, \u001b[38;5;241m1\u001b[39m]) \u001b[38;5;241m/\u001b[39m np\u001b[38;5;241m.\u001b[39msum(confusion)\n\u001b[0;32m     10\u001b[0m \u001b[38;5;28mprint\u001b[39m(\u001b[38;5;124mf\u001b[39m\u001b[38;5;124m'\u001b[39m\u001b[38;5;124mAccuracy: \u001b[39m\u001b[38;5;132;01m{\u001b[39;00maccuracy\u001b[38;5;132;01m:\u001b[39;00m\u001b[38;5;124m.2%\u001b[39m\u001b[38;5;132;01m}\u001b[39;00m\u001b[38;5;124m'\u001b[39m)\n",
      "\u001b[1;31mNameError\u001b[0m: name 'confusion' is not defined"
     ]
    }
   ],
   "source": [
    "# Plot training history\n",
    "plt.plot(history.history['accuracy'], label='accuracy')\n",
    "plt.xlabel('Epoch')\n",
    "plt.ylabel('Accuracy')\n",
    "plt.title('Model Accuracy')\n",
    "plt.legend(loc='lower right')\n",
    "plt.show()\n",
    "accuracy = (confusion[0, 0] + confusion[1, 1]) / np.sum(confusion)\n",
    "\n",
    "print(f'Accuracy: {accuracy:.2%}')"
   ]
  },
  {
   "cell_type": "code",
   "execution_count": 35,
   "id": "f7f495e6-647a-45b7-82f9-148b18192066",
   "metadata": {},
   "outputs": [
    {
     "name": "stdout",
     "output_type": "stream",
     "text": [
      "1/1 [==============================] - 0s 479ms/step\n"
     ]
    }
   ],
   "source": [
    "Y_pred = model.predict(X_test)\n",
    "Y_pred=(Y_pred>0.5)\n",
    "Y_true = np.argmax(Y_test, axis=1)\n",
    "Y_pred = np.argmax(Y_pred, axis=1)"
   ]
  },
  {
   "cell_type": "code",
   "execution_count": 36,
   "id": "ad3f3391-f301-4158-8223-8e903800d9a6",
   "metadata": {},
   "outputs": [
    {
     "data": {
      "image/png": "[encoded data removed]",
      "text/plain": [
       "<Figure size 400x300 with 2 Axes>"
      ]
     },
     "metadata": {},
     "output_type": "display_data"
    }
   ],
   "source": [
    "# Calculate and plot the confusion matrix\n",
    "confusion = confusion_matrix(Y_true, Y_pred)\n",
    "class_labels = ['Normal', 'Tuberculosis']\n",
    "\n",
    "plt.figure(figsize=(4, 3))\n",
    "sns.set(font_scale=1.2)\n",
    "sns.heatmap(confusion, annot=True, fmt=\"d\", cmap=\"Blues\", xticklabels=class_labels, yticklabels=class_labels)\n",
    "plt.xlabel('Predicted')\n",
    "plt.ylabel('True')\n",
    "plt.title('Confusion Matrix')\n",
    "plt.show()"
   ]
  },
  {
   "cell_type": "code",
   "execution_count": 37,
   "id": "d16bee53-bef5-4198-baa9-603eb4e876fc",
   "metadata": {},
   "outputs": [
    {
     "name": "stdout",
     "output_type": "stream",
     "text": [
      "Classification Report:\n",
      "              precision    recall  f1-score   support\n",
      "\n",
      "           0       0.00      0.00      0.00         7\n",
      "           1       0.53      0.89      0.67         9\n",
      "\n",
      "    accuracy                           0.50        16\n",
      "   macro avg       0.27      0.44      0.33        16\n",
      "weighted avg       0.30      0.50      0.38        16\n",
      "\n"
     ]
    }
   ],
   "source": [
    "precision = precision_score(Y_true,Y_pred, zero_division=1)\n",
    "f1 = f1_score(Y_true, Y_pred, zero_division=1)\n",
    "print(\"Classification Report:\")\n",
    "print(classification_report(Y_true,Y_pred))"
   ]
  },
  {
   "cell_type": "code",
   "execution_count": 1,
   "id": "ea9e7063-d234-48f4-a3c3-9a303e8c7e3e",
   "metadata": {},
   "outputs": [
    {
     "ename": "NameError",
     "evalue": "name 'plt' is not defined",
     "output_type": "error",
     "traceback": [
      "\u001b[1;31m---------------------------------------------------------------------------\u001b[0m",
      "\u001b[1;31mNameError\u001b[0m                                 Traceback (most recent call last)",
      "Cell \u001b[1;32mIn[1], line 3\u001b[0m\n\u001b[0;32m      1\u001b[0m \u001b[38;5;28;01mimport\u001b[39;00m \u001b[38;5;21;01mrandom\u001b[39;00m \u001b[38;5;28;01mas\u001b[39;00m \u001b[38;5;21;01mrd\u001b[39;00m\n\u001b[1;32m----> 3\u001b[0m \u001b[43mplt\u001b[49m\u001b[38;5;241m.\u001b[39mfigure(figsize\u001b[38;5;241m=\u001b[39m(\u001b[38;5;241m15\u001b[39m, \u001b[38;5;241m12\u001b[39m))\n\u001b[0;32m      5\u001b[0m \u001b[38;5;28;01mfor\u001b[39;00m i \u001b[38;5;129;01min\u001b[39;00m \u001b[38;5;28mrange\u001b[39m(\u001b[38;5;241m20\u001b[39m):\n\u001b[0;32m      6\u001b[0m     random_idx \u001b[38;5;241m=\u001b[39m rd\u001b[38;5;241m.\u001b[39mrandint(\u001b[38;5;241m0\u001b[39m, \u001b[38;5;28mlen\u001b[39m(data_df) \u001b[38;5;241m-\u001b[39m \u001b[38;5;241m1\u001b[39m)\n",
      "\u001b[1;31mNameError\u001b[0m: name 'plt' is not defined"
     ]
    }
   ],
   "source": [
    "import random as rd\n",
    "\n",
    "plt.figure(figsize=(15, 12))\n",
    "\n",
    "for i in range(20):\n",
    "    random_idx = rd.randint(0, len(data_df) - 1)\n",
    "    img_path = data_df['images'][random_idx]\n",
    "    img = cv2.imread(img_path, cv2.IMREAD_GRAYSCALE)\n",
    "    \n",
    "    if img is not None and img.size > 0:\n",
    "        img = cv2.resize(img, (224, 224))\n",
    "        img = np.expand_dims(img, axis=0)\n",
    "        actual_class = \"Tuberculosis\" if data_df['labels'][random_idx] == 1 else \"Normal\"\n",
    "\n",
    "        # Predict class probabilities\n",
    "        class_probabilities = model.predict(img)\n",
    "\n",
    "        # Determine the predicted class based on the highest probability\n",
    "        if class_probabilities[0, 1] > class_probabilities[0, 0]:\n",
    "            predicted_class = \"Tuberculosis\"\n",
    "        else:\n",
    "            predicted_class = \"Normal\"\n",
    "\n",
    "        plt.subplot(4, 5, i + 1)\n",
    "        plt.imshow(img[0], cmap='gray')\n",
    "        plt.title(f\"Actual: {actual_class}\\nPredicted: {predicted_class}\")\n",
    "        plt.axis('off')\n",
    "    else:\n",
    "        print(f\"Image at index {random_idx} could not be loaded.\")\n",
    "\n",
    "plt.show()\n"
   ]
  },
  {
   "cell_type": "code",
   "execution_count": null,
   "id": "12b2c216-cc46-4138-8cb0-650c2b627344",
   "metadata": {},
   "outputs": [],
   "source": []
  },
  {
   "cell_type": "code",
   "execution_count": null,
   "id": "ffa2f135-e95a-4ee4-8406-33f2e4693355",
   "metadata": {},
   "outputs": [],
   "source": []
  },
  {
   "cell_type": "code",
   "execution_count": null,
   "id": "d3ca9869-9da8-46c1-a89d-5fe53509750d",
   "metadata": {},
   "outputs": [],
   "source": []
  }
 ],
 "metadata": {
  "kernelspec": {
   "display_name": "Python 3 (ipykernel)",
   "language": "python",
   "name": "python3"
  },
  "language_info": {
   "codemirror_mode": {
    "name": "ipython",
    "version": 3
   },
   "file_extension": ".py",
   "mimetype": "text/x-python",
   "name": "python",
   "nbconvert_exporter": "python",
   "pygments_lexer": "ipython3",
   "version": "3.9.0"
  }
 },
 "nbformat": 4,
 "nbformat_minor": 5
}

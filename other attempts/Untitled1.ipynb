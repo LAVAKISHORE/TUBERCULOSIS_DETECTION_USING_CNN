{
 "cells": [
  {
   "cell_type": "code",
   "execution_count": null,
   "id": "f923083e-6615-48ea-8296-618b3bf2b987",
   "metadata": {},
   "outputs": [],
   "source": [
    "import os\n",
    "import pandas as pd\n",
    "import matplotlib.pyplot as plt\n",
    "import cv2\n",
    "from tensorflow.keras.utils import to_categorical\n",
    "from tensorflow.keras.models import Sequential\n",
    "from tensorflow.keras.layers import Dense, Conv2D, MaxPool2D, Flatten\n",
    "from traitlets import validate\n",
    "import sklearn.model_selection\n",
    "import numpy as np\n",
    "import tensorflow as tf\n",
    "import sklearn.metrics\n",
    "from sklearn.metrics import confusion_matrix\n",
    "from sklearn.metrics import classification_report\n",
    "from tensorflow.keras.preprocessing.image import ImageDataGenerator\n",
    "from tensorflow.keras.models import load_model"
   ]
  },
  {
   "cell_type": "code",
   "execution_count": null,
   "id": "9035118f-e96f-4b7f-b5f3-84145bcb6525",
   "metadata": {},
   "outputs": [],
   "source": [
    "data_dir = r\"C:\\Users\\B.BASI REDDY\\Documents\\TB_Chest_Radiography_Database\\Normal\"\n",
    "data_dir2 = r\"C:\\Users\\B.BASI REDDY\\Documents\\TB_Chest_Radiography_Database\\Tuberculosis\"\n"
   ]
  },
  {
   "cell_type": "code",
   "execution_count": null,
   "id": "83364a84-b51c-4fd2-9e04-2e3da56b8b60",
   "metadata": {},
   "outputs": [],
   "source": [
    "print(\"Number of samples in the dataset:\", len(data))\n",
    "print(\"Number of samples in the validation set:\", len(validation_generator.filenames))\n",
    "\n",
    "# Print a few file paths to check if they are correct\n",
    "print(\"Sample validation file paths:\", validation_generator.filenames[:5])\n"
   ]
  },
  {
   "cell_type": "code",
   "execution_count": null,
   "id": "ea049d26-d03f-4439-a953-4e7a48959208",
   "metadata": {},
   "outputs": [],
   "source": []
  }
 ],
 "metadata": {
  "kernelspec": {
   "display_name": "Python 3 (ipykernel)",
   "language": "python",
   "name": "python3"
  },
  "language_info": {
   "codemirror_mode": {
    "name": "ipython",
    "version": 3
   },
   "file_extension": ".py",
   "mimetype": "text/x-python",
   "name": "python",
   "nbconvert_exporter": "python",
   "pygments_lexer": "ipython3",
   "version": "3.9.0"
  }
 },
 "nbformat": 4,
 "nbformat_minor": 5
}
